{
 "cells": [
  {
   "cell_type": "code",
   "execution_count": 30,
   "id": "79ac2cc8",
   "metadata": {},
   "outputs": [],
   "source": [
    "# importing basic libraries\n",
    "\n",
    "from selenium import webdriver\n",
    "from selenium.webdriver.chrome.options import Options  \n",
    "from selenium.webdriver.common.by import By\n",
    "from selenium.webdriver.support.ui import WebDriverWait\n",
    "from selenium.webdriver.support import expected_conditions as EC"
   ]
  },
  {
   "cell_type": "code",
   "execution_count": 2,
   "id": "0c7bc347",
   "metadata": {},
   "outputs": [],
   "source": [
    "options = Options()\n",
    "options.add_argument('--headless') # run in headless mode\n",
    "options.add_argument('--disable-gpu') # disable gpu (windows workaround)\n",
    "options.add_argument('--window-size=1920,1080') # optional but recommended (use to resize window)\n",
    "options.add_argument('--no-sandbox') # optional (useful for linux)\n",
    "options.add_argument('--disabel-dev-shm-usage') # optional (useful for linux)"
   ]
  },
  {
   "cell_type": "code",
   "execution_count": 228,
   "id": "ed1f6a87",
   "metadata": {},
   "outputs": [],
   "source": [
    "# start driver and open the site\n",
    "\n",
    "driver = webdriver.Chrome(options = options)\n",
    "driver.get(\"https://www.pakwheels.com/\")\n"
   ]
  },
  {
   "cell_type": "markdown",
   "id": "22b1a147",
   "metadata": {},
   "source": [
    "- at first i have to take the table where the whole content is diplayed\n",
    "- after that we have to select the code where the categories list items are located \n",
    "- then we have to click on the table and we have to check whether the first element of categories match with ours if it does then we are repeating so we have break the script there "
   ]
  },
  {
   "cell_type": "code",
   "execution_count": 234,
   "id": "770f3272",
   "metadata": {},
   "outputs": [],
   "source": [
    "links = []\n"
   ]
  },
  {
   "cell_type": "code",
   "execution_count": 244,
   "id": "7095af41",
   "metadata": {},
   "outputs": [],
   "source": [
    "\n",
    "# Here we will be organizing the content.\n",
    "\n",
    "\n",
    "firstPicker()\n",
    "removePopupForcefully()\n",
    "changeCarousel()\n",
    "checker = links[0]\n",
    "loopConditioner = True\n",
    "while loopConditioner:\n",
    "    itemPicker()\n",
    "    removePopupForcefully()\n",
    "    changeCarousel()\n",
    "\n",
    "\n",
    "\n",
    "\n",
    "\n",
    "\n",
    "\n",
    "\n",
    "\n"
   ]
  },
  {
   "cell_type": "code",
   "execution_count": null,
   "id": "8e9cfbb3",
   "metadata": {},
   "outputs": [],
   "source": [
    "# functions\n",
    "\n",
    "def firstPicker():\n",
    "    global loopConditioner\n",
    "    items = driver.find_element(By.XPATH, '//div[@class = \"nav-tabs-main mb20\"]')\n",
    "    listOfCategories = items.find_elements(By.CSS_SELECTOR, 'ul.browse-listing.item.clearfix.active')\n",
    "    links.extend(\n",
    "    list(set(\n",
    "        category.strip()\n",
    "        for item in listOfCategories\n",
    "        for category in item.text.split('\\n')\n",
    "        if category.strip()\n",
    "    ))\n",
    ")\n",
    "\n",
    "\n",
    "\n",
    "def itemPicker():\n",
    "    global loopConditioner, checker\n",
    "\n",
    "    items = driver.find_element(By.XPATH, '//div[@class = \"nav-tabs-main mb20\"]')\n",
    "    listOfCategories = items.find_elements(By.CSS_SELECTOR, 'ul.browse-listing.item.clearfix.active') \n",
    "\n",
    "    current_items = []\n",
    "\n",
    "    for item in listOfCategories:\n",
    "        if item.text.strip():\n",
    "            for category in item.text.strip().split('\\n'):\n",
    "                cleaned_item = category.strip()\n",
    "                if cleaned_item and cleaned_item not in links:\n",
    "                    links.append(cleaned_item)\n",
    "                if cleaned_item:\n",
    "                    current_items.append(cleaned_item)\n",
    "\n",
    "    current_combined = '\\n'.join(sorted(current_items))\n",
    "\n",
    "    if current_combined != checker:\n",
    "        checker = current_combined\n",
    "    else:\n",
    "        loopConditioner = False\n",
    "\n",
    "\n",
    "\n",
    "\n",
    "def removePopupForcefully():\n",
    "    try:\n",
    "        driver.execute_script(\"\"\"\n",
    "            let popup = document.getElementById(\"onesignal-slidedown-container\");\n",
    "            if (popup) {\n",
    "                popup.remove();\n",
    "                console.log(\"Popup removed\");\n",
    "            }\n",
    "        \"\"\")\n",
    "    except Exception as e:\n",
    "        print(\"Popup remove nahi hua:\", e)\n",
    "\n",
    "\n",
    "def changeCarousel():    \n",
    "    button = WebDriverWait(driver, 10).until(\n",
    "        EC.element_to_be_clickable((By.CSS_SELECTOR, \"a.carousel-control.right\"))\n",
    "    )\n",
    "    driver.execute_script(\"arguments[0].scrollIntoView(true);\", button)\n",
    "    button.click()\n",
    "\n"
   ]
  },
  {
   "cell_type": "code",
   "execution_count": 245,
   "id": "db614f7f",
   "metadata": {},
   "outputs": [
    {
     "data": {
      "text/plain": [
       "64"
      ]
     },
     "execution_count": 245,
     "metadata": {},
     "output_type": "execute_result"
    }
   ],
   "source": [
    "len(links)"
   ]
  },
  {
   "cell_type": "code",
   "execution_count": 227,
   "id": "af1efad2",
   "metadata": {},
   "outputs": [],
   "source": [
    "driver.quit()"
   ]
  }
 ],
 "metadata": {
  "kernelspec": {
   "display_name": "EssentialForWebscraping",
   "language": "python",
   "name": "python3"
  },
  "language_info": {
   "codemirror_mode": {
    "name": "ipython",
    "version": 3
   },
   "file_extension": ".py",
   "mimetype": "text/x-python",
   "name": "python",
   "nbconvert_exporter": "python",
   "pygments_lexer": "ipython3",
   "version": "3.12.3"
  }
 },
 "nbformat": 4,
 "nbformat_minor": 5
}
